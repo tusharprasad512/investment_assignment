{
 "cells": [
  {
   "cell_type": "markdown",
   "metadata": {},
   "source": [
    "# Investment Assignment by Tushar Prasad"
   ]
  },
  {
   "cell_type": "markdown",
   "metadata": {},
   "source": [
    "## Importing Packages"
   ]
  },
  {
   "cell_type": "code",
   "execution_count": 1,
   "metadata": {},
   "outputs": [],
   "source": [
    "import numpy as np\n",
    "import pandas as pd\n",
    "import chardet\n",
    "import seaborn as sns\n",
    "import matplotlib.pyplot as plt "
   ]
  },
  {
   "cell_type": "markdown",
   "metadata": {},
   "source": [
    "## Reading companies and rounds csvs"
   ]
  },
  {
   "cell_type": "code",
   "execution_count": 2,
   "metadata": {},
   "outputs": [
    {
     "name": "stdout",
     "output_type": "stream",
     "text": [
      "{'encoding': 'ascii', 'confidence': 1.0, 'language': ''}\n"
     ]
    }
   ],
   "source": [
    "## Finding the encoding for rounds2\n",
    "\n",
    "with open(\"rounds2.csv\", 'rb') as rawdata:\n",
    "    result = chardet.detect(rawdata.read(2000))\n",
    "\n",
    "# check what the character encoding might be\n",
    "print(result)"
   ]
  },
  {
   "cell_type": "code",
   "execution_count": 3,
   "metadata": {},
   "outputs": [
    {
     "name": "stdout",
     "output_type": "stream",
     "text": [
      "{'encoding': 'ascii', 'confidence': 1.0, 'language': ''}\n"
     ]
    }
   ],
   "source": [
    "## Finding the encoding for companies\n",
    "\n",
    "with open(\"companies.csv\", 'rb') as rawdata:\n",
    "    result = chardet.detect(rawdata.read(2000))\n",
    "\n",
    "# check what the character encoding might be\n",
    "print(result)"
   ]
  },
  {
   "cell_type": "markdown",
   "metadata": {},
   "source": [
    "### The encoding is in ascii. Hence, converting the encoding from ISO-8859-1 to ascii"
   ]
  },
  {
   "cell_type": "code",
   "execution_count": 4,
   "metadata": {},
   "outputs": [],
   "source": [
    "## reading companies dataset\n",
    "\n",
    "companies = pd.read_csv('companies.csv',encoding='ISO-8859-1')"
   ]
  },
  {
   "cell_type": "code",
   "execution_count": 5,
   "metadata": {},
   "outputs": [],
   "source": [
    "## Conversion into ascii\n",
    "\n",
    "companies['permalink'] = companies['permalink'].str.encode('ISO-8859-1').str.decode('ascii', 'ignore')\n",
    "companies['name'] = companies['name'].str.encode('ISO-8859-1').str.decode('ascii', 'ignore')"
   ]
  },
  {
   "cell_type": "code",
   "execution_count": 6,
   "metadata": {},
   "outputs": [
    {
     "data": {
      "text/html": [
       "<div>\n",
       "<style scoped>\n",
       "    .dataframe tbody tr th:only-of-type {\n",
       "        vertical-align: middle;\n",
       "    }\n",
       "\n",
       "    .dataframe tbody tr th {\n",
       "        vertical-align: top;\n",
       "    }\n",
       "\n",
       "    .dataframe thead th {\n",
       "        text-align: right;\n",
       "    }\n",
       "</style>\n",
       "<table border=\"1\" class=\"dataframe\">\n",
       "  <thead>\n",
       "    <tr style=\"text-align: right;\">\n",
       "      <th></th>\n",
       "      <th>permalink</th>\n",
       "      <th>name</th>\n",
       "      <th>homepage_url</th>\n",
       "      <th>category_list</th>\n",
       "      <th>status</th>\n",
       "      <th>country_code</th>\n",
       "      <th>state_code</th>\n",
       "      <th>region</th>\n",
       "      <th>city</th>\n",
       "      <th>founded_at</th>\n",
       "    </tr>\n",
       "  </thead>\n",
       "  <tbody>\n",
       "    <tr>\n",
       "      <th>0</th>\n",
       "      <td>/Organization/-Fame</td>\n",
       "      <td>#fame</td>\n",
       "      <td>http://livfame.com</td>\n",
       "      <td>Media</td>\n",
       "      <td>operating</td>\n",
       "      <td>IND</td>\n",
       "      <td>16</td>\n",
       "      <td>Mumbai</td>\n",
       "      <td>Mumbai</td>\n",
       "      <td>NaN</td>\n",
       "    </tr>\n",
       "    <tr>\n",
       "      <th>1</th>\n",
       "      <td>/Organization/-Qounter</td>\n",
       "      <td>:Qounter</td>\n",
       "      <td>http://www.qounter.com</td>\n",
       "      <td>Application Platforms|Real Time|Social Network...</td>\n",
       "      <td>operating</td>\n",
       "      <td>USA</td>\n",
       "      <td>DE</td>\n",
       "      <td>DE - Other</td>\n",
       "      <td>Delaware City</td>\n",
       "      <td>04-09-2014</td>\n",
       "    </tr>\n",
       "    <tr>\n",
       "      <th>2</th>\n",
       "      <td>/Organization/-The-One-Of-Them-Inc-</td>\n",
       "      <td>(THE) ONE of THEM,Inc.</td>\n",
       "      <td>http://oneofthem.jp</td>\n",
       "      <td>Apps|Games|Mobile</td>\n",
       "      <td>operating</td>\n",
       "      <td>NaN</td>\n",
       "      <td>NaN</td>\n",
       "      <td>NaN</td>\n",
       "      <td>NaN</td>\n",
       "      <td>NaN</td>\n",
       "    </tr>\n",
       "    <tr>\n",
       "      <th>3</th>\n",
       "      <td>/Organization/0-6-Com</td>\n",
       "      <td>0-6.com</td>\n",
       "      <td>http://www.0-6.com</td>\n",
       "      <td>Curated Web</td>\n",
       "      <td>operating</td>\n",
       "      <td>CHN</td>\n",
       "      <td>22</td>\n",
       "      <td>Beijing</td>\n",
       "      <td>Beijing</td>\n",
       "      <td>01-01-2007</td>\n",
       "    </tr>\n",
       "    <tr>\n",
       "      <th>4</th>\n",
       "      <td>/Organization/004-Technologies</td>\n",
       "      <td>004 Technologies</td>\n",
       "      <td>http://004gmbh.de/en/004-interact</td>\n",
       "      <td>Software</td>\n",
       "      <td>operating</td>\n",
       "      <td>USA</td>\n",
       "      <td>IL</td>\n",
       "      <td>Springfield, Illinois</td>\n",
       "      <td>Champaign</td>\n",
       "      <td>01-01-2010</td>\n",
       "    </tr>\n",
       "  </tbody>\n",
       "</table>\n",
       "</div>"
      ],
      "text/plain": [
       "                             permalink                    name  \\\n",
       "0                  /Organization/-Fame                   #fame   \n",
       "1               /Organization/-Qounter                :Qounter   \n",
       "2  /Organization/-The-One-Of-Them-Inc-  (THE) ONE of THEM,Inc.   \n",
       "3                /Organization/0-6-Com                 0-6.com   \n",
       "4       /Organization/004-Technologies        004 Technologies   \n",
       "\n",
       "                        homepage_url  \\\n",
       "0                 http://livfame.com   \n",
       "1             http://www.qounter.com   \n",
       "2                http://oneofthem.jp   \n",
       "3                 http://www.0-6.com   \n",
       "4  http://004gmbh.de/en/004-interact   \n",
       "\n",
       "                                       category_list     status country_code  \\\n",
       "0                                              Media  operating          IND   \n",
       "1  Application Platforms|Real Time|Social Network...  operating          USA   \n",
       "2                                  Apps|Games|Mobile  operating          NaN   \n",
       "3                                        Curated Web  operating          CHN   \n",
       "4                                           Software  operating          USA   \n",
       "\n",
       "  state_code                 region           city  founded_at  \n",
       "0         16                 Mumbai         Mumbai         NaN  \n",
       "1         DE             DE - Other  Delaware City  04-09-2014  \n",
       "2        NaN                    NaN            NaN         NaN  \n",
       "3         22                Beijing        Beijing  01-01-2007  \n",
       "4         IL  Springfield, Illinois      Champaign  01-01-2010  "
      ]
     },
     "execution_count": 6,
     "metadata": {},
     "output_type": "execute_result"
    }
   ],
   "source": [
    "companies.head()"
   ]
  },
  {
   "cell_type": "code",
   "execution_count": 7,
   "metadata": {},
   "outputs": [
    {
     "data": {
      "text/plain": [
       "(66368, 10)"
      ]
     },
     "execution_count": 7,
     "metadata": {},
     "output_type": "execute_result"
    }
   ],
   "source": [
    "companies.shape"
   ]
  },
  {
   "cell_type": "code",
   "execution_count": 8,
   "metadata": {},
   "outputs": [],
   "source": [
    "## reading rounds2 dataset\n",
    "\n",
    "rounds2 = pd.read_csv('rounds2.csv',encoding='ISO-8859-1')"
   ]
  },
  {
   "cell_type": "code",
   "execution_count": 9,
   "metadata": {},
   "outputs": [],
   "source": [
    "## Conversion into ascii\n",
    "\n",
    "rounds2['company_permalink'] = rounds2['company_permalink'].str.encode('ISO-8859-1').str.decode('ascii', 'ignore')"
   ]
  },
  {
   "cell_type": "code",
   "execution_count": 10,
   "metadata": {},
   "outputs": [
    {
     "data": {
      "text/html": [
       "<div>\n",
       "<style scoped>\n",
       "    .dataframe tbody tr th:only-of-type {\n",
       "        vertical-align: middle;\n",
       "    }\n",
       "\n",
       "    .dataframe tbody tr th {\n",
       "        vertical-align: top;\n",
       "    }\n",
       "\n",
       "    .dataframe thead th {\n",
       "        text-align: right;\n",
       "    }\n",
       "</style>\n",
       "<table border=\"1\" class=\"dataframe\">\n",
       "  <thead>\n",
       "    <tr style=\"text-align: right;\">\n",
       "      <th></th>\n",
       "      <th>company_permalink</th>\n",
       "      <th>funding_round_permalink</th>\n",
       "      <th>funding_round_type</th>\n",
       "      <th>funding_round_code</th>\n",
       "      <th>funded_at</th>\n",
       "      <th>raised_amount_usd</th>\n",
       "    </tr>\n",
       "  </thead>\n",
       "  <tbody>\n",
       "    <tr>\n",
       "      <th>0</th>\n",
       "      <td>/organization/-fame</td>\n",
       "      <td>/funding-round/9a01d05418af9f794eebff7ace91f638</td>\n",
       "      <td>venture</td>\n",
       "      <td>B</td>\n",
       "      <td>05-01-2015</td>\n",
       "      <td>10000000.0</td>\n",
       "    </tr>\n",
       "    <tr>\n",
       "      <th>1</th>\n",
       "      <td>/ORGANIZATION/-QOUNTER</td>\n",
       "      <td>/funding-round/22dacff496eb7acb2b901dec1dfe5633</td>\n",
       "      <td>venture</td>\n",
       "      <td>A</td>\n",
       "      <td>14-10-2014</td>\n",
       "      <td>NaN</td>\n",
       "    </tr>\n",
       "    <tr>\n",
       "      <th>2</th>\n",
       "      <td>/organization/-qounter</td>\n",
       "      <td>/funding-round/b44fbb94153f6cdef13083530bb48030</td>\n",
       "      <td>seed</td>\n",
       "      <td>NaN</td>\n",
       "      <td>01-03-2014</td>\n",
       "      <td>700000.0</td>\n",
       "    </tr>\n",
       "    <tr>\n",
       "      <th>3</th>\n",
       "      <td>/ORGANIZATION/-THE-ONE-OF-THEM-INC-</td>\n",
       "      <td>/funding-round/650b8f704416801069bb178a1418776b</td>\n",
       "      <td>venture</td>\n",
       "      <td>B</td>\n",
       "      <td>30-01-2014</td>\n",
       "      <td>3406878.0</td>\n",
       "    </tr>\n",
       "    <tr>\n",
       "      <th>4</th>\n",
       "      <td>/organization/0-6-com</td>\n",
       "      <td>/funding-round/5727accaeaa57461bd22a9bdd945382d</td>\n",
       "      <td>venture</td>\n",
       "      <td>A</td>\n",
       "      <td>19-03-2008</td>\n",
       "      <td>2000000.0</td>\n",
       "    </tr>\n",
       "  </tbody>\n",
       "</table>\n",
       "</div>"
      ],
      "text/plain": [
       "                     company_permalink  \\\n",
       "0                  /organization/-fame   \n",
       "1               /ORGANIZATION/-QOUNTER   \n",
       "2               /organization/-qounter   \n",
       "3  /ORGANIZATION/-THE-ONE-OF-THEM-INC-   \n",
       "4                /organization/0-6-com   \n",
       "\n",
       "                           funding_round_permalink funding_round_type  \\\n",
       "0  /funding-round/9a01d05418af9f794eebff7ace91f638            venture   \n",
       "1  /funding-round/22dacff496eb7acb2b901dec1dfe5633            venture   \n",
       "2  /funding-round/b44fbb94153f6cdef13083530bb48030               seed   \n",
       "3  /funding-round/650b8f704416801069bb178a1418776b            venture   \n",
       "4  /funding-round/5727accaeaa57461bd22a9bdd945382d            venture   \n",
       "\n",
       "  funding_round_code   funded_at  raised_amount_usd  \n",
       "0                  B  05-01-2015         10000000.0  \n",
       "1                  A  14-10-2014                NaN  \n",
       "2                NaN  01-03-2014           700000.0  \n",
       "3                  B  30-01-2014          3406878.0  \n",
       "4                  A  19-03-2008          2000000.0  "
      ]
     },
     "execution_count": 10,
     "metadata": {},
     "output_type": "execute_result"
    }
   ],
   "source": [
    "rounds2.head()"
   ]
  },
  {
   "cell_type": "code",
   "execution_count": 11,
   "metadata": {},
   "outputs": [
    {
     "data": {
      "text/plain": [
       "(114949, 6)"
      ]
     },
     "execution_count": 11,
     "metadata": {},
     "output_type": "execute_result"
    }
   ],
   "source": [
    "rounds2.shape"
   ]
  },
  {
   "cell_type": "markdown",
   "metadata": {},
   "source": [
    "## Data Inspection"
   ]
  },
  {
   "cell_type": "code",
   "execution_count": 12,
   "metadata": {},
   "outputs": [
    {
     "name": "stdout",
     "output_type": "stream",
     "text": [
      "<class 'pandas.core.frame.DataFrame'>\n",
      "RangeIndex: 66368 entries, 0 to 66367\n",
      "Data columns (total 10 columns):\n",
      "permalink        66368 non-null object\n",
      "name             66367 non-null object\n",
      "homepage_url     61310 non-null object\n",
      "category_list    63220 non-null object\n",
      "status           66368 non-null object\n",
      "country_code     59410 non-null object\n",
      "state_code       57821 non-null object\n",
      "region           58338 non-null object\n",
      "city             58340 non-null object\n",
      "founded_at       51147 non-null object\n",
      "dtypes: object(10)\n",
      "memory usage: 5.1+ MB\n"
     ]
    }
   ],
   "source": [
    "companies.info()"
   ]
  },
  {
   "cell_type": "code",
   "execution_count": 13,
   "metadata": {},
   "outputs": [
    {
     "data": {
      "text/html": [
       "<div>\n",
       "<style scoped>\n",
       "    .dataframe tbody tr th:only-of-type {\n",
       "        vertical-align: middle;\n",
       "    }\n",
       "\n",
       "    .dataframe tbody tr th {\n",
       "        vertical-align: top;\n",
       "    }\n",
       "\n",
       "    .dataframe thead th {\n",
       "        text-align: right;\n",
       "    }\n",
       "</style>\n",
       "<table border=\"1\" class=\"dataframe\">\n",
       "  <thead>\n",
       "    <tr style=\"text-align: right;\">\n",
       "      <th></th>\n",
       "      <th>permalink</th>\n",
       "      <th>name</th>\n",
       "      <th>homepage_url</th>\n",
       "      <th>category_list</th>\n",
       "      <th>status</th>\n",
       "      <th>country_code</th>\n",
       "      <th>state_code</th>\n",
       "      <th>region</th>\n",
       "      <th>city</th>\n",
       "      <th>founded_at</th>\n",
       "    </tr>\n",
       "  </thead>\n",
       "  <tbody>\n",
       "    <tr>\n",
       "      <th>count</th>\n",
       "      <td>66368</td>\n",
       "      <td>66367</td>\n",
       "      <td>61310</td>\n",
       "      <td>63220</td>\n",
       "      <td>66368</td>\n",
       "      <td>59410</td>\n",
       "      <td>57821</td>\n",
       "      <td>58338</td>\n",
       "      <td>58340</td>\n",
       "      <td>51147</td>\n",
       "    </tr>\n",
       "    <tr>\n",
       "      <th>unique</th>\n",
       "      <td>66368</td>\n",
       "      <td>66099</td>\n",
       "      <td>61191</td>\n",
       "      <td>27296</td>\n",
       "      <td>4</td>\n",
       "      <td>137</td>\n",
       "      <td>311</td>\n",
       "      <td>1092</td>\n",
       "      <td>5111</td>\n",
       "      <td>3978</td>\n",
       "    </tr>\n",
       "    <tr>\n",
       "      <th>top</th>\n",
       "      <td>/Organization/Regroup-Therapy</td>\n",
       "      <td>Peach</td>\n",
       "      <td>http://www.askforoffer.com</td>\n",
       "      <td>Software</td>\n",
       "      <td>operating</td>\n",
       "      <td>USA</td>\n",
       "      <td>CA</td>\n",
       "      <td>SF Bay Area</td>\n",
       "      <td>San Francisco</td>\n",
       "      <td>01-01-2012</td>\n",
       "    </tr>\n",
       "    <tr>\n",
       "      <th>freq</th>\n",
       "      <td>1</td>\n",
       "      <td>4</td>\n",
       "      <td>5</td>\n",
       "      <td>3995</td>\n",
       "      <td>53034</td>\n",
       "      <td>37601</td>\n",
       "      <td>12900</td>\n",
       "      <td>8804</td>\n",
       "      <td>3526</td>\n",
       "      <td>2730</td>\n",
       "    </tr>\n",
       "  </tbody>\n",
       "</table>\n",
       "</div>"
      ],
      "text/plain": [
       "                            permalink   name                homepage_url  \\\n",
       "count                           66368  66367                       61310   \n",
       "unique                          66368  66099                       61191   \n",
       "top     /Organization/Regroup-Therapy  Peach  http://www.askforoffer.com   \n",
       "freq                                1      4                           5   \n",
       "\n",
       "       category_list     status country_code state_code       region  \\\n",
       "count          63220      66368        59410      57821        58338   \n",
       "unique         27296          4          137        311         1092   \n",
       "top         Software  operating          USA         CA  SF Bay Area   \n",
       "freq            3995      53034        37601      12900         8804   \n",
       "\n",
       "                 city  founded_at  \n",
       "count           58340       51147  \n",
       "unique           5111        3978  \n",
       "top     San Francisco  01-01-2012  \n",
       "freq             3526        2730  "
      ]
     },
     "execution_count": 13,
     "metadata": {},
     "output_type": "execute_result"
    }
   ],
   "source": [
    "companies.describe()"
   ]
  },
  {
   "cell_type": "code",
   "execution_count": 14,
   "metadata": {},
   "outputs": [
    {
     "name": "stdout",
     "output_type": "stream",
     "text": [
      "<class 'pandas.core.frame.DataFrame'>\n",
      "RangeIndex: 114949 entries, 0 to 114948\n",
      "Data columns (total 6 columns):\n",
      "company_permalink          114949 non-null object\n",
      "funding_round_permalink    114949 non-null object\n",
      "funding_round_type         114949 non-null object\n",
      "funding_round_code         31140 non-null object\n",
      "funded_at                  114949 non-null object\n",
      "raised_amount_usd          94959 non-null float64\n",
      "dtypes: float64(1), object(5)\n",
      "memory usage: 5.3+ MB\n"
     ]
    }
   ],
   "source": [
    "rounds2.info()"
   ]
  },
  {
   "cell_type": "code",
   "execution_count": 15,
   "metadata": {},
   "outputs": [
    {
     "data": {
      "text/html": [
       "<div>\n",
       "<style scoped>\n",
       "    .dataframe tbody tr th:only-of-type {\n",
       "        vertical-align: middle;\n",
       "    }\n",
       "\n",
       "    .dataframe tbody tr th {\n",
       "        vertical-align: top;\n",
       "    }\n",
       "\n",
       "    .dataframe thead th {\n",
       "        text-align: right;\n",
       "    }\n",
       "</style>\n",
       "<table border=\"1\" class=\"dataframe\">\n",
       "  <thead>\n",
       "    <tr style=\"text-align: right;\">\n",
       "      <th></th>\n",
       "      <th>raised_amount_usd</th>\n",
       "    </tr>\n",
       "  </thead>\n",
       "  <tbody>\n",
       "    <tr>\n",
       "      <th>count</th>\n",
       "      <td>9.495900e+04</td>\n",
       "    </tr>\n",
       "    <tr>\n",
       "      <th>mean</th>\n",
       "      <td>1.042687e+07</td>\n",
       "    </tr>\n",
       "    <tr>\n",
       "      <th>std</th>\n",
       "      <td>1.148212e+08</td>\n",
       "    </tr>\n",
       "    <tr>\n",
       "      <th>min</th>\n",
       "      <td>0.000000e+00</td>\n",
       "    </tr>\n",
       "    <tr>\n",
       "      <th>25%</th>\n",
       "      <td>3.225000e+05</td>\n",
       "    </tr>\n",
       "    <tr>\n",
       "      <th>50%</th>\n",
       "      <td>1.680511e+06</td>\n",
       "    </tr>\n",
       "    <tr>\n",
       "      <th>75%</th>\n",
       "      <td>7.000000e+06</td>\n",
       "    </tr>\n",
       "    <tr>\n",
       "      <th>max</th>\n",
       "      <td>2.127194e+10</td>\n",
       "    </tr>\n",
       "  </tbody>\n",
       "</table>\n",
       "</div>"
      ],
      "text/plain": [
       "       raised_amount_usd\n",
       "count       9.495900e+04\n",
       "mean        1.042687e+07\n",
       "std         1.148212e+08\n",
       "min         0.000000e+00\n",
       "25%         3.225000e+05\n",
       "50%         1.680511e+06\n",
       "75%         7.000000e+06\n",
       "max         2.127194e+10"
      ]
     },
     "execution_count": 15,
     "metadata": {},
     "output_type": "execute_result"
    }
   ],
   "source": [
    "rounds2.describe()"
   ]
  },
  {
   "cell_type": "code",
   "execution_count": 16,
   "metadata": {
    "scrolled": true
   },
   "outputs": [
    {
     "name": "stdout",
     "output_type": "stream",
     "text": [
      "/ORGANIZATION/SOLARFLARE                     10\n",
      "/ORGANIZATION/ENDOGASTRIC-SOLUTIONS           9\n",
      "/organization/exagen-diagnostics              9\n",
      "/organization/solarflare                      9\n",
      "/organization/tigo-energy                     9\n",
      "/ORGANIZATION/EXAGEN-DIAGNOSTICS              9\n",
      "/ORGANIZATION/QUELLAN                         9\n",
      "/organization/semprius                        9\n",
      "/organization/quellan                         9\n",
      "/organization/vocalocity                      9\n",
      "/ORGANIZATION/SEMPRIUS                        9\n",
      "/organization/mobivery                        8\n",
      "/ORGANIZATION/TYRO-PAYMENTS                   8\n",
      "/organization/tyro-payments                   8\n",
      "/ORGANIZATION/POWERHOUSE-DYNAMICS             8\n",
      "/organization/aperto-networks                 8\n",
      "/ORGANIZATION/TIGO-ENERGY                     8\n",
      "/ORGANIZATION/MOBIVERY                        8\n",
      "/organization/terascala                       8\n",
      "/ORGANIZATION/NEXT-STEP-LIVING                8\n",
      "/organization/growlife                        8\n",
      "/organization/fresenius-medical-care          8\n",
      "/ORGANIZATION/FRESENIUS-MEDICAL-CARE          8\n",
      "/ORGANIZATION/ROSTIMA                         8\n",
      "/ORGANIZATION/TERASCALA                       8\n",
      "/ORGANIZATION/PALANTIR-TECHNOLOGIES           8\n",
      "/ORGANIZATION/INSTAMED                        8\n",
      "/organization/powerhouse-dynamics             8\n",
      "/ORGANIZATION/CNS-RESPONSE                    8\n",
      "/ORGANIZATION/VOCALOCITY                      8\n",
      "                                             ..\n",
      "/ORGANIZATION/ADSTACK                         1\n",
      "/ORGANIZATION/ICOPYRIGHT                      1\n",
      "/organization/oncothyreon                     1\n",
      "/organization/studyplaces                     1\n",
      "/ORGANIZATION/CARE-MONSTER                    1\n",
      "/ORGANIZATION/FLEXLIGHT-NETWORKS              1\n",
      "/ORGANIZATION/BRAINSWAY                       1\n",
      "/ORGANIZATION/OUTROOP-INC                     1\n",
      "/ORGANIZATION/LENDINGSTAR                     1\n",
      "/organization/plasticell                      1\n",
      "/ORGANIZATION/PRESTOLITE-ELECTRIC-BEIJING     1\n",
      "/organization/gridcure                        1\n",
      "/organization/neurologica                     1\n",
      "/ORGANIZATION/MATTERSIGHT-CORP                1\n",
      "/ORGANIZATION/LOANLOGICS                      1\n",
      "/organization/bavia-health                    1\n",
      "/ORGANIZATION/XYZE                            1\n",
      "/ORGANIZATION/ARRAYSHIELD                     1\n",
      "/organization/hepatochem                      1\n",
      "/organization/nano-nouvelle                   1\n",
      "/ORGANIZATION/VELES-PLUS-LLC                  1\n",
      "/ORGANIZATION/TIME-FOR-MEDICINE-LIMITED       1\n",
      "/ORGANIZATION/NAUTILUS-SOLAR-ENERGY           1\n",
      "/organization/mobile-interaction              1\n",
      "/organization/caviar                          1\n",
      "/organization/the-mill-dtlv                   1\n",
      "/organization/gluu-io                         1\n",
      "/organization/glassify                        1\n",
      "/ORGANIZATION/PHONEANDPHONE                   1\n",
      "/organization/the-medical-marijuana-group     1\n",
      "Name: company_permalink, Length: 90247, dtype: int64\n"
     ]
    },
    {
     "data": {
      "text/plain": [
       "66368"
      ]
     },
     "execution_count": 16,
     "metadata": {},
     "output_type": "execute_result"
    }
   ],
   "source": [
    "## Table 1.1 Q-1\n",
    "\n",
    "print(rounds2['company_permalink'].value_counts()) ## Since python sees lower case and upper case as different, we will convert them\n",
    "\n",
    "rounds2['company_permalink'] = rounds2['company_permalink'].str.lower()\n",
    "\n",
    "rounds2['company_permalink'].nunique()"
   ]
  },
  {
   "cell_type": "code",
   "execution_count": 17,
   "metadata": {
    "scrolled": true
   },
   "outputs": [
    {
     "name": "stdout",
     "output_type": "stream",
     "text": [
      "/Organization/Regroup-Therapy                          1\n",
      "/Organization/Precision-Therapeutics                   1\n",
      "/Organization/Applied-Biomimetic                       1\n",
      "/Organization/Tubular-Labs                             1\n",
      "/Organization/Thetime                                  1\n",
      "/Organization/Ipracom                                  1\n",
      "/Organization/Immaculate-Baking                        1\n",
      "/Organization/Tesorx-Pharma                            1\n",
      "/Organization/The-Solution-Design-Group                1\n",
      "/Organization/Hansa-Customer                           1\n",
      "/Organization/Screachtv                                1\n",
      "/Organization/Loxysoft-Group                           1\n",
      "/Organization/Crossworld-Warranty                      1\n",
      "/Organization/Taggle-Internet-Ventures-Private         1\n",
      "/Organization/Allvoices                                1\n",
      "/Organization/Minubo                                   1\n",
      "/Organization/Puzl                                     1\n",
      "/Organization/Transportation-Group                     1\n",
      "/Organization/Anunta-Technology-Management-Services    1\n",
      "/Organization/Chalkfly                                 1\n",
      "/Organization/Solasta                                  1\n",
      "/Organization/Office-Depot                             1\n",
      "/Organization/Nanopotential                            1\n",
      "/Organization/Sleep-Nation                             1\n",
      "/Organization/Zwoor-Com                                1\n",
      "/Organization/Mesmateriaux                             1\n",
      "/Organization/Denali-Medical                           1\n",
      "/Organization/Federspiel-Corp                          1\n",
      "/Organization/Sportymob                                1\n",
      "/Organization/Goodzer                                  1\n",
      "                                                      ..\n",
      "/Organization/Vigilos                                  1\n",
      "/Organization/Ariadne-Diagnostics                      1\n",
      "/Organization/Mopix                                    1\n",
      "/Organization/K-Spine                                  1\n",
      "/Organization/Emoh                                     1\n",
      "/Organization/Jollydeck                                1\n",
      "/Organization/Sustainlane                              1\n",
      "/Organization/Shenzhen-O-Film-Tech-Co-Ltd              1\n",
      "/Organization/Oresis-Communications                    1\n",
      "/Organization/Clicksign                                1\n",
      "/Organization/Quora                                    1\n",
      "/Organization/Volumental                               1\n",
      "/Organization/Typeform                                 1\n",
      "/Organization/W-W-Norton-Company                       1\n",
      "/Organization/Ask-Genie                                1\n",
      "/Organization/Biopassword                              1\n",
      "/Organization/Bitmicro-Networks-Inc                    1\n",
      "/Organization/Focus-Research                           1\n",
      "/Organization/Immunet-Corporation                      1\n",
      "/Organization/Haztucesta                               1\n",
      "/Organization/Semisouth                                1\n",
      "/Organization/Siving-Egil-Kvaleberg                    1\n",
      "/Organization/Storybox                                 1\n",
      "/Organization/Globavir                                 1\n",
      "/Organization/Smartwatch-Security-Sound                1\n",
      "/Organization/Victorious-Medical-Systems               1\n",
      "/Organization/Doctor-Jackson                           1\n",
      "/Organization/Winmedical                               1\n",
      "/Organization/Solar-Roadways                           1\n",
      "/Organization/Sofive                                   1\n",
      "Name: permalink, Length: 66368, dtype: int64\n"
     ]
    },
    {
     "data": {
      "text/plain": [
       "66368"
      ]
     },
     "execution_count": 17,
     "metadata": {},
     "output_type": "execute_result"
    }
   ],
   "source": [
    "## Table 1.1 Q-2\n",
    "\n",
    "print(companies['permalink'].value_counts()) ## Since python sees lower case and upper case as different, we will convert them\n",
    "\n",
    "companies['permalink'] = companies['permalink'].str.lower()\n",
    "\n",
    "companies['permalink'].nunique()"
   ]
  },
  {
   "cell_type": "code",
   "execution_count": 18,
   "metadata": {},
   "outputs": [],
   "source": [
    "## Table 1.1 Q-3\n",
    "\n",
    "#permalink is the answer"
   ]
  },
  {
   "cell_type": "code",
   "execution_count": 19,
   "metadata": {},
   "outputs": [
    {
     "name": "stdout",
     "output_type": "stream",
     "text": [
      "set()\n",
      "set()\n"
     ]
    }
   ],
   "source": [
    "## Table 1.1 Q-4 \n",
    "\n",
    "## Finding the set difference of the unique companies between both the datasets\n",
    "\n",
    "print(set(rounds2['company_permalink'].unique()).difference(set(companies['permalink'].unique())))\n",
    "\n",
    "print(set(companies['permalink'].unique()).difference(set(rounds2['company_permalink'].unique())))\n",
    "\n",
    "## Hence we can see that there is no difference between the companies of round2 and companies file."
   ]
  },
  {
   "cell_type": "code",
   "execution_count": 20,
   "metadata": {},
   "outputs": [],
   "source": [
    "## Merging the two dataframes\n",
    "\n",
    "master_frame = pd.merge(rounds2,companies,left_on='company_permalink',right_on='permalink',how='left')"
   ]
  },
  {
   "cell_type": "code",
   "execution_count": 21,
   "metadata": {},
   "outputs": [
    {
     "data": {
      "text/plain": [
       "(114949, 16)"
      ]
     },
     "execution_count": 21,
     "metadata": {},
     "output_type": "execute_result"
    }
   ],
   "source": [
    "## Table 1.1 Q-5\n",
    "\n",
    "master_frame.shape"
   ]
  },
  {
   "cell_type": "markdown",
   "metadata": {},
   "source": [
    "## Data Cleaning"
   ]
  },
  {
   "cell_type": "code",
   "execution_count": 22,
   "metadata": {},
   "outputs": [
    {
     "data": {
      "text/plain": [
       "company_permalink              0\n",
       "funding_round_permalink        0\n",
       "funding_round_type             0\n",
       "funding_round_code         83809\n",
       "funded_at                      0\n",
       "raised_amount_usd          19990\n",
       "permalink                      0\n",
       "name                           1\n",
       "homepage_url                6134\n",
       "category_list               3410\n",
       "status                         0\n",
       "country_code                8678\n",
       "state_code                 10946\n",
       "region                     10167\n",
       "city                       10164\n",
       "founded_at                 20521\n",
       "dtype: int64"
      ]
     },
     "execution_count": 22,
     "metadata": {},
     "output_type": "execute_result"
    }
   ],
   "source": [
    "# missing values in master df\n",
    "\n",
    "master_frame.isnull().sum()"
   ]
  },
  {
   "cell_type": "code",
   "execution_count": 23,
   "metadata": {},
   "outputs": [
    {
     "data": {
      "text/plain": [
       "company_permalink           0.000000\n",
       "funding_round_permalink     0.000000\n",
       "funding_round_type          0.000000\n",
       "funding_round_code         72.909725\n",
       "funded_at                   0.000000\n",
       "raised_amount_usd          17.390321\n",
       "permalink                   0.000000\n",
       "name                        0.000870\n",
       "homepage_url                5.336280\n",
       "category_list               2.966533\n",
       "status                      0.000000\n",
       "country_code                7.549435\n",
       "state_code                  9.522484\n",
       "region                      8.844792\n",
       "city                        8.842182\n",
       "founded_at                 17.852265\n",
       "dtype: float64"
      ]
     },
     "execution_count": 23,
     "metadata": {},
     "output_type": "execute_result"
    }
   ],
   "source": [
    "# summing up the missing values (column-wise) and displaying fraction of NaNs\n",
    "\n",
    "master_frame.isnull().sum()*100/len(master_frame)"
   ]
  },
  {
   "cell_type": "markdown",
   "metadata": {},
   "source": [
    "#### From the initial problem statement, the driving factors for our analysis consist of features like country,  sector and funding type. Hence we can drop the columns which are not required\n"
   ]
  },
  {
   "cell_type": "code",
   "execution_count": 24,
   "metadata": {},
   "outputs": [],
   "source": [
    "## Dropping unnecessary columns\n",
    "\n",
    "dropped_cols = ['funding_round_permalink','funding_round_code','funded_at','permalink','homepage_url','status','state_code','region',\n",
    "                'city','founded_at']\n",
    "\n",
    "master_frame.drop(dropped_cols,axis=1,inplace=True)"
   ]
  },
  {
   "cell_type": "code",
   "execution_count": 25,
   "metadata": {},
   "outputs": [
    {
     "data": {
      "text/plain": [
       "company_permalink         0\n",
       "funding_round_type        0\n",
       "raised_amount_usd     19990\n",
       "name                      1\n",
       "category_list          3410\n",
       "country_code           8678\n",
       "dtype: int64"
      ]
     },
     "execution_count": 25,
     "metadata": {},
     "output_type": "execute_result"
    }
   ],
   "source": [
    "# rechecking missing values in master df\n",
    "\n",
    "master_frame.isnull().sum()"
   ]
  },
  {
   "cell_type": "code",
   "execution_count": 26,
   "metadata": {},
   "outputs": [
    {
     "data": {
      "text/plain": [
       "company_permalink      0.000000\n",
       "funding_round_type     0.000000\n",
       "raised_amount_usd     17.390321\n",
       "name                   0.000870\n",
       "category_list          2.966533\n",
       "country_code           7.549435\n",
       "dtype: float64"
      ]
     },
     "execution_count": 26,
     "metadata": {},
     "output_type": "execute_result"
    }
   ],
   "source": [
    "# summing up the missing values (column-wise) and displaying fraction of NaNs\n",
    "\n",
    "master_frame.isnull().sum()*100/len(master_frame)"
   ]
  },
  {
   "cell_type": "markdown",
   "metadata": {},
   "source": [
    "#### We can now drop the null columns are take a call whether it is a good decision or not"
   ]
  },
  {
   "cell_type": "code",
   "execution_count": 27,
   "metadata": {},
   "outputs": [
    {
     "data": {
      "text/plain": [
       "77.01502405414575"
      ]
     },
     "execution_count": 27,
     "metadata": {},
     "output_type": "execute_result"
    }
   ],
   "source": [
    "master_frame.dropna().shape[0]*100/master_frame.shape[0]"
   ]
  },
  {
   "cell_type": "markdown",
   "metadata": {},
   "source": [
    "#### We are retaining 77% of our information which is a good amount to continue. Hence we can drop the null rows"
   ]
  },
  {
   "cell_type": "code",
   "execution_count": 28,
   "metadata": {},
   "outputs": [],
   "source": [
    "master_frame = master_frame.dropna()"
   ]
  },
  {
   "cell_type": "code",
   "execution_count": 29,
   "metadata": {},
   "outputs": [
    {
     "data": {
      "text/plain": [
       "company_permalink     0\n",
       "funding_round_type    0\n",
       "raised_amount_usd     0\n",
       "name                  0\n",
       "category_list         0\n",
       "country_code          0\n",
       "dtype: int64"
      ]
     },
     "execution_count": 29,
     "metadata": {},
     "output_type": "execute_result"
    }
   ],
   "source": [
    "# rechecking missing values in master df\n",
    "\n",
    "master_frame.isnull().sum()"
   ]
  },
  {
   "cell_type": "markdown",
   "metadata": {},
   "source": [
    "## Funding Type Analysis"
   ]
  },
  {
   "cell_type": "code",
   "execution_count": 30,
   "metadata": {},
   "outputs": [
    {
     "data": {
      "text/plain": [
       "array(['venture', 'seed', 'undisclosed', 'convertible_note',\n",
       "       'private_equity', 'debt_financing', 'angel', 'grant',\n",
       "       'equity_crowdfunding', 'post_ipo_equity', 'post_ipo_debt',\n",
       "       'product_crowdfunding', 'secondary_market',\n",
       "       'non_equity_assistance'], dtype=object)"
      ]
     },
     "execution_count": 30,
     "metadata": {},
     "output_type": "execute_result"
    }
   ],
   "source": [
    "master_frame['funding_round_type'].unique() ## We only need to have 'venture','seed','angel' & private_equity for our analysis"
   ]
  },
  {
   "cell_type": "code",
   "execution_count": 31,
   "metadata": {},
   "outputs": [],
   "source": [
    "master_frame = master_frame[master_frame['funding_round_type'].isin(['venture','seed','angel','private_equity'])]"
   ]
  },
  {
   "cell_type": "code",
   "execution_count": 32,
   "metadata": {},
   "outputs": [
    {
     "data": {
      "text/plain": [
       "array(['venture', 'seed', 'private_equity', 'angel'], dtype=object)"
      ]
     },
     "execution_count": 32,
     "metadata": {},
     "output_type": "execute_result"
    }
   ],
   "source": [
    "## checking the unique funding types\n",
    "\n",
    "master_frame['funding_round_type'].unique()"
   ]
  },
  {
   "cell_type": "code",
   "execution_count": 33,
   "metadata": {},
   "outputs": [
    {
     "data": {
      "text/html": [
       "<div>\n",
       "<style scoped>\n",
       "    .dataframe tbody tr th:only-of-type {\n",
       "        vertical-align: middle;\n",
       "    }\n",
       "\n",
       "    .dataframe tbody tr th {\n",
       "        vertical-align: top;\n",
       "    }\n",
       "\n",
       "    .dataframe thead th {\n",
       "        text-align: right;\n",
       "    }\n",
       "</style>\n",
       "<table border=\"1\" class=\"dataframe\">\n",
       "  <thead>\n",
       "    <tr style=\"text-align: right;\">\n",
       "      <th></th>\n",
       "      <th>raised_amount_usd</th>\n",
       "    </tr>\n",
       "    <tr>\n",
       "      <th>funding_round_type</th>\n",
       "      <th></th>\n",
       "    </tr>\n",
       "  </thead>\n",
       "  <tbody>\n",
       "    <tr>\n",
       "      <th>angel</th>\n",
       "      <td>971573</td>\n",
       "    </tr>\n",
       "    <tr>\n",
       "      <th>private_equity</th>\n",
       "      <td>73938486</td>\n",
       "    </tr>\n",
       "    <tr>\n",
       "      <th>seed</th>\n",
       "      <td>747827</td>\n",
       "    </tr>\n",
       "    <tr>\n",
       "      <th>venture</th>\n",
       "      <td>11724222</td>\n",
       "    </tr>\n",
       "  </tbody>\n",
       "</table>\n",
       "</div>"
      ],
      "text/plain": [
       "                    raised_amount_usd\n",
       "funding_round_type                   \n",
       "angel                          971573\n",
       "private_equity               73938486\n",
       "seed                           747827\n",
       "venture                      11724222"
      ]
     },
     "execution_count": 33,
     "metadata": {},
     "output_type": "execute_result"
    }
   ],
   "source": [
    "## Table 2.1 Q-(1 to 4)\n",
    "\n",
    "master_frame.groupby(['funding_round_type']).mean().astype(int)"
   ]
  },
  {
   "cell_type": "code",
   "execution_count": 34,
   "metadata": {},
   "outputs": [
    {
     "data": {
      "image/png": "[encoded data removed]",
      "text/plain": [
       "<Figure size 432x288 with 1 Axes>"
      ]
     },
     "metadata": {
      "needs_background": "light"
     },
     "output_type": "display_data"
    }
   ],
   "source": [
    "## Creating a plot of Funding Type vs Raised Amount in Million USD\n",
    "\n",
    "sns.barplot(x=master_frame.groupby(['funding_round_type']).mean().astype(int).index,\n",
    "            y=master_frame.groupby(['funding_round_type']).mean().astype(int)['raised_amount_usd']/1000000,\n",
    "           ).set_title(\"Funding Type vs Raised Amount in Million USD\");\n"
   ]
  },
  {
   "cell_type": "markdown",
   "metadata": {},
   "source": [
    "### From the graph, we can see that only venture funding type lies within our range of 5 - 15 million US dollar. Hence, we will select venture as our funding type"
   ]
  },
  {
   "cell_type": "code",
   "execution_count": 35,
   "metadata": {},
   "outputs": [],
   "source": [
    "## Table 2.1 Q-5\n",
    "\n",
    "## We will select venture as our funding type.\n",
    "\n",
    "master_frame = master_frame[master_frame['funding_round_type'] == 'venture'] \n",
    "\n",
    "master_frame = master_frame.drop(['funding_round_type'], axis = 1)"
   ]
  },
  {
   "cell_type": "markdown",
   "metadata": {},
   "source": [
    "## Country Analysis"
   ]
  },
  {
   "cell_type": "code",
   "execution_count": 36,
   "metadata": {},
   "outputs": [],
   "source": [
    "## selecting the top 9 countries on the bases of raised amount usd\n",
    "\n",
    "top9 = master_frame.groupby('country_code',as_index=False).sum().sort_values(by='raised_amount_usd',ascending=False).iloc[0:9]"
   ]
  },
  {
   "cell_type": "code",
   "execution_count": 37,
   "metadata": {},
   "outputs": [
    {
     "data": {
      "text/html": [
       "<div>\n",
       "<style scoped>\n",
       "    .dataframe tbody tr th:only-of-type {\n",
       "        vertical-align: middle;\n",
       "    }\n",
       "\n",
       "    .dataframe tbody tr th {\n",
       "        vertical-align: top;\n",
       "    }\n",
       "\n",
       "    .dataframe thead th {\n",
       "        text-align: right;\n",
       "    }\n",
       "</style>\n",
       "<table border=\"1\" class=\"dataframe\">\n",
       "  <thead>\n",
       "    <tr style=\"text-align: right;\">\n",
       "      <th></th>\n",
       "      <th>country_code</th>\n",
       "      <th>raised_amount_usd</th>\n",
       "    </tr>\n",
       "  </thead>\n",
       "  <tbody>\n",
       "    <tr>\n",
       "      <th>94</th>\n",
       "      <td>USA</td>\n",
       "      <td>4.200680e+11</td>\n",
       "    </tr>\n",
       "    <tr>\n",
       "      <th>15</th>\n",
       "      <td>CHN</td>\n",
       "      <td>3.933892e+10</td>\n",
       "    </tr>\n",
       "    <tr>\n",
       "      <th>29</th>\n",
       "      <td>GBR</td>\n",
       "      <td>2.007281e+10</td>\n",
       "    </tr>\n",
       "    <tr>\n",
       "      <th>39</th>\n",
       "      <td>IND</td>\n",
       "      <td>1.426151e+10</td>\n",
       "    </tr>\n",
       "    <tr>\n",
       "      <th>12</th>\n",
       "      <td>CAN</td>\n",
       "      <td>9.482218e+09</td>\n",
       "    </tr>\n",
       "    <tr>\n",
       "      <th>28</th>\n",
       "      <td>FRA</td>\n",
       "      <td>7.226851e+09</td>\n",
       "    </tr>\n",
       "    <tr>\n",
       "      <th>42</th>\n",
       "      <td>ISR</td>\n",
       "      <td>6.854350e+09</td>\n",
       "    </tr>\n",
       "    <tr>\n",
       "      <th>21</th>\n",
       "      <td>DEU</td>\n",
       "      <td>6.306922e+09</td>\n",
       "    </tr>\n",
       "    <tr>\n",
       "      <th>45</th>\n",
       "      <td>JPN</td>\n",
       "      <td>3.167647e+09</td>\n",
       "    </tr>\n",
       "  </tbody>\n",
       "</table>\n",
       "</div>"
      ],
      "text/plain": [
       "   country_code  raised_amount_usd\n",
       "94          USA       4.200680e+11\n",
       "15          CHN       3.933892e+10\n",
       "29          GBR       2.007281e+10\n",
       "39          IND       1.426151e+10\n",
       "12          CAN       9.482218e+09\n",
       "28          FRA       7.226851e+09\n",
       "42          ISR       6.854350e+09\n",
       "21          DEU       6.306922e+09\n",
       "45          JPN       3.167647e+09"
      ]
     },
     "execution_count": 37,
     "metadata": {},
     "output_type": "execute_result"
    }
   ],
   "source": [
    "## Table 3.1 Q-(1-3)\n",
    "\n",
    "top9"
   ]
  },
  {
   "cell_type": "code",
   "execution_count": 38,
   "metadata": {},
   "outputs": [
    {
     "data": {
      "image/png": "[encoded data removed]",
      "text/plain": [
       "<Figure size 432x288 with 1 Axes>"
      ]
     },
     "metadata": {
      "needs_background": "light"
     },
     "output_type": "display_data"
    }
   ],
   "source": [
    "## Creating a bar plot of country vs raised amount in million USD\n",
    "\n",
    "sns.barplot(x=top9['country_code'],\n",
    "            y=top9['raised_amount_usd']/1000000,\n",
    "           ).set_title(\"Country vs Raised Amount in Million USD\");\n"
   ]
  },
  {
   "cell_type": "markdown",
   "metadata": {},
   "source": [
    "### China is not an english speaking country as most of the documents and companies communicate in native languages. Hence, the top 3 english speaking countries are USA, GBR and IND"
   ]
  },
  {
   "cell_type": "code",
   "execution_count": 39,
   "metadata": {},
   "outputs": [],
   "source": [
    "## select the relevant countries\n",
    "\n",
    "master_frame = master_frame[master_frame['country_code'].isin(['USA','GBR','IND'])]"
   ]
  },
  {
   "cell_type": "markdown",
   "metadata": {},
   "source": [
    "## Sector Analysis 1"
   ]
  },
  {
   "cell_type": "code",
   "execution_count": 40,
   "metadata": {},
   "outputs": [],
   "source": [
    "## Filtering primary sectors from the category list\n",
    "\n",
    "master_frame['primary sector'] = master_frame['category_list'].apply(lambda x: x.split('|')[0])"
   ]
  },
  {
   "cell_type": "code",
   "execution_count": 41,
   "metadata": {},
   "outputs": [],
   "source": [
    "## Reading the mapping file\n",
    "\n",
    "mapping = pd.read_csv('mapping.csv')\n",
    "\n",
    "mapping = mapping.dropna()\n",
    "\n",
    "mapping.drop(['Blanks'],inplace=True,axis=1)"
   ]
  },
  {
   "cell_type": "code",
   "execution_count": 42,
   "metadata": {},
   "outputs": [
    {
     "data": {
      "text/html": [
       "<div>\n",
       "<style scoped>\n",
       "    .dataframe tbody tr th:only-of-type {\n",
       "        vertical-align: middle;\n",
       "    }\n",
       "\n",
       "    .dataframe tbody tr th {\n",
       "        vertical-align: top;\n",
       "    }\n",
       "\n",
       "    .dataframe thead th {\n",
       "        text-align: right;\n",
       "    }\n",
       "</style>\n",
       "<table border=\"1\" class=\"dataframe\">\n",
       "  <thead>\n",
       "    <tr style=\"text-align: right;\">\n",
       "      <th></th>\n",
       "      <th>category_list</th>\n",
       "      <th>Automotive &amp; Sports</th>\n",
       "      <th>Cleantech / Semiconductors</th>\n",
       "      <th>Entertainment</th>\n",
       "      <th>Health</th>\n",
       "      <th>Manufacturing</th>\n",
       "      <th>News, Search and Messaging</th>\n",
       "      <th>Others</th>\n",
       "      <th>Social, Finance, Analytics, Advertising</th>\n",
       "    </tr>\n",
       "  </thead>\n",
       "  <tbody>\n",
       "    <tr>\n",
       "      <th>1</th>\n",
       "      <td>3D</td>\n",
       "      <td>0</td>\n",
       "      <td>0</td>\n",
       "      <td>0</td>\n",
       "      <td>0</td>\n",
       "      <td>1</td>\n",
       "      <td>0</td>\n",
       "      <td>0</td>\n",
       "      <td>0</td>\n",
       "    </tr>\n",
       "    <tr>\n",
       "      <th>2</th>\n",
       "      <td>3D Printing</td>\n",
       "      <td>0</td>\n",
       "      <td>0</td>\n",
       "      <td>0</td>\n",
       "      <td>0</td>\n",
       "      <td>1</td>\n",
       "      <td>0</td>\n",
       "      <td>0</td>\n",
       "      <td>0</td>\n",
       "    </tr>\n",
       "    <tr>\n",
       "      <th>3</th>\n",
       "      <td>3D Technology</td>\n",
       "      <td>0</td>\n",
       "      <td>0</td>\n",
       "      <td>0</td>\n",
       "      <td>0</td>\n",
       "      <td>1</td>\n",
       "      <td>0</td>\n",
       "      <td>0</td>\n",
       "      <td>0</td>\n",
       "    </tr>\n",
       "    <tr>\n",
       "      <th>4</th>\n",
       "      <td>Accounting</td>\n",
       "      <td>0</td>\n",
       "      <td>0</td>\n",
       "      <td>0</td>\n",
       "      <td>0</td>\n",
       "      <td>0</td>\n",
       "      <td>0</td>\n",
       "      <td>0</td>\n",
       "      <td>1</td>\n",
       "    </tr>\n",
       "    <tr>\n",
       "      <th>5</th>\n",
       "      <td>Active Lifestyle</td>\n",
       "      <td>0</td>\n",
       "      <td>0</td>\n",
       "      <td>0</td>\n",
       "      <td>1</td>\n",
       "      <td>0</td>\n",
       "      <td>0</td>\n",
       "      <td>0</td>\n",
       "      <td>0</td>\n",
       "    </tr>\n",
       "  </tbody>\n",
       "</table>\n",
       "</div>"
      ],
      "text/plain": [
       "      category_list  Automotive & Sports  Cleantech / Semiconductors  \\\n",
       "1                3D                    0                           0   \n",
       "2       3D Printing                    0                           0   \n",
       "3     3D Technology                    0                           0   \n",
       "4        Accounting                    0                           0   \n",
       "5  Active Lifestyle                    0                           0   \n",
       "\n",
       "   Entertainment  Health  Manufacturing  News, Search and Messaging  Others  \\\n",
       "1              0       0              1                           0       0   \n",
       "2              0       0              1                           0       0   \n",
       "3              0       0              1                           0       0   \n",
       "4              0       0              0                           0       0   \n",
       "5              0       1              0                           0       0   \n",
       "\n",
       "   Social, Finance, Analytics, Advertising  \n",
       "1                                        0  \n",
       "2                                        0  \n",
       "3                                        0  \n",
       "4                                        1  \n",
       "5                                        0  "
      ]
     },
     "execution_count": 42,
     "metadata": {},
     "output_type": "execute_result"
    }
   ],
   "source": [
    "mapping.head()"
   ]
  },
  {
   "cell_type": "code",
   "execution_count": 43,
   "metadata": {},
   "outputs": [],
   "source": [
    "## Data manipulation of the mapping file into a format which can be merged into our master df\n",
    "\n",
    "id_vars = ['category_list']\n",
    "value_vars = list(np.setdiff1d(mapping.columns, id_vars))\n",
    "\n",
    "mapping = pd.melt(mapping, id_vars = id_vars, value_vars = value_vars) \n",
    "\n",
    "mapping = mapping[mapping['value']==1]\n",
    "\n",
    "mapping.drop(['value'],axis=1,inplace=True)\n",
    "\n",
    "mapping.rename(columns={'category_list':'primary sector','variable':'main_sectors'},inplace=True)"
   ]
  },
  {
   "cell_type": "code",
   "execution_count": 44,
   "metadata": {},
   "outputs": [],
   "source": [
    "## merging the data\n",
    "\n",
    "master_frame = pd.merge(master_frame,mapping,on='primary sector',how='left')"
   ]
  },
  {
   "cell_type": "code",
   "execution_count": 45,
   "metadata": {},
   "outputs": [
    {
     "data": {
      "text/plain": [
       "array(['Analytics', 'Finance', 'Nanotechnology', 'Business Analytics',\n",
       "       'Contact Management', 'Financial Services', 'Career Management',\n",
       "       'Cloud Management', 'Big Data Analytics', 'Finance Technology',\n",
       "       'Document Management', 'Digital Signage', 'Journalism',\n",
       "       'Waste Management', 'Energy Management', 'Lead Management',\n",
       "       'Event Management', 'IT Management', 'Cannabis',\n",
       "       'Investment Management', 'Knowledge Management',\n",
       "       'Identity Management', 'Personalization', 'Natural Gas Uses',\n",
       "       'Alternative Medicine', 'Natural Language Processing',\n",
       "       'Intellectual Asset Management', 'Risk Management',\n",
       "       'Adaptive Equipment', 'Supply Chain Management',\n",
       "       'Innovation Management', 'Project Management', 'Racing',\n",
       "       'Specialty Retail', 'Biotechnology and Semiconductor',\n",
       "       'Educational Games', 'Rapidly Expanding',\n",
       "       'Digital Rights Management', 'Governance', 'Professional Services',\n",
       "       'Mobile Analytics', 'Navigation', 'Product Search',\n",
       "       'Property Management', 'Personal Finance', 'Fleet Management',\n",
       "       'GreenTech', 'Retirement', 'Professional Networking',\n",
       "       'Financial Exchanges', 'Task Management'], dtype=object)"
      ]
     },
     "execution_count": 45,
     "metadata": {},
     "output_type": "execute_result"
    }
   ],
   "source": [
    "master_frame[master_frame['main_sectors'].isnull()]['primary sector'].unique()"
   ]
  },
  {
   "cell_type": "code",
   "execution_count": 46,
   "metadata": {},
   "outputs": [],
   "source": [
    "## Dropping the rows having no main sector associated with the primary sector\n",
    "\n",
    "master_frame = master_frame[master_frame['main_sectors'].notnull()]"
   ]
  },
  {
   "cell_type": "code",
   "execution_count": 47,
   "metadata": {},
   "outputs": [
    {
     "data": {
      "text/plain": [
       "array(['Entertainment', 'News, Search and Messaging', 'Others', 'Health',\n",
       "       'Cleantech / Semiconductors', 'Manufacturing',\n",
       "       'Social, Finance, Analytics, Advertising', 'Automotive & Sports'],\n",
       "      dtype=object)"
      ]
     },
     "execution_count": 47,
     "metadata": {},
     "output_type": "execute_result"
    }
   ],
   "source": [
    "## Checking the unique main sectors\n",
    "\n",
    "master_frame['main_sectors'].unique()"
   ]
  },
  {
   "cell_type": "markdown",
   "metadata": {},
   "source": [
    "## Sector Analysis 2"
   ]
  },
  {
   "cell_type": "code",
   "execution_count": 48,
   "metadata": {},
   "outputs": [],
   "source": [
    "## Filtering the data according to the relevant countries and the investment constraints\n",
    "\n",
    "D1 = master_frame.loc[(master_frame['country_code']=='USA')&(master_frame['raised_amount_usd']>=5000000)&(master_frame['raised_amount_usd']<=15000000)]\n",
    "\n",
    "D2 = master_frame.loc[(master_frame['country_code']=='GBR')&(master_frame['raised_amount_usd']>=5000000)&(master_frame['raised_amount_usd']<=15000000)]\n",
    "\n",
    "D3 = master_frame.loc[(master_frame['country_code']=='IND')&(master_frame['raised_amount_usd']>=5000000)&(master_frame['raised_amount_usd']<=15000000)]"
   ]
  },
  {
   "cell_type": "code",
   "execution_count": 49,
   "metadata": {},
   "outputs": [
    {
     "name": "stdout",
     "output_type": "stream",
     "text": [
      "11149\n",
      "577\n",
      "299\n"
     ]
    }
   ],
   "source": [
    "## Table 5.1 Q-1\n",
    "\n",
    "print(D1.shape[0])\n",
    "print(D2.shape[0])\n",
    "print(D3.shape[0])"
   ]
  },
  {
   "cell_type": "code",
   "execution_count": 50,
   "metadata": {},
   "outputs": [
    {
     "name": "stdout",
     "output_type": "stream",
     "text": [
      "99661524549.0\n",
      "5028704358.0\n",
      "2683537552.0\n"
     ]
    }
   ],
   "source": [
    "## Table 5.1 Q-2\n",
    "\n",
    "print(D1['raised_amount_usd'].sum())\n",
    "print(D2['raised_amount_usd'].sum())\n",
    "print(D3['raised_amount_usd'].sum())"
   ]
  },
  {
   "cell_type": "code",
   "execution_count": 51,
   "metadata": {},
   "outputs": [],
   "source": [
    "## Table 5.1 Q-(3-8)"
   ]
  },
  {
   "cell_type": "code",
   "execution_count": 52,
   "metadata": {},
   "outputs": [
    {
     "data": {
      "image/png": "[encoded data removed]",
      "text/plain": [
       "<Figure size 1440x720 with 3 Axes>"
      ]
     },
     "metadata": {
      "needs_background": "light"
     },
     "output_type": "display_data"
    }
   ],
   "source": [
    "## A plot showing the number of investments in the top 3 sectors of the top 3 countries\n",
    "\n",
    "plt.figure(figsize=(20, 10))\n",
    "plt.subplot(1,3,1)\n",
    "sns.barplot(x = D1.groupby(['main_sectors']).count()[['company_permalink']].sort_values('company_permalink',ascending=False).iloc[0:3].index,\n",
    "            y = D1.groupby(['main_sectors']).count()[['company_permalink']].sort_values('company_permalink',ascending=False).iloc[0:3]['company_permalink'])\n",
    "\n",
    "plt.xlabel('Main Sectors')\n",
    "plt.ylabel('Number of Investments')\n",
    "plt.title('Top 3 Sectors vs Number of Investments for US')\n",
    "plt.xticks(rotation=25)\n",
    "\n",
    "\n",
    "plt.subplot(1,3,2)\n",
    "sns.barplot(x = D2.groupby(['main_sectors']).count()[['company_permalink']].sort_values('company_permalink',ascending=False).iloc[0:3].index,\n",
    "            y = D2.groupby(['main_sectors']).count()[['company_permalink']].sort_values('company_permalink',ascending=False).iloc[0:3]['company_permalink'])\n",
    "\n",
    "plt.xlabel('Main Sectors')\n",
    "plt.ylabel('Number of Investments')\n",
    "plt.title('Top 3 Sectors vs Number of Investments for GBR')\n",
    "plt.xticks(rotation=25)\n",
    "\n",
    "plt.subplot(1,3,3)\n",
    "sns.barplot(x = D3.groupby(['main_sectors']).count()[['company_permalink']].sort_values('company_permalink',ascending=False).iloc[0:3].index,\n",
    "            y = D3.groupby(['main_sectors']).count()[['company_permalink']].sort_values('company_permalink',ascending=False).iloc[0:3]['company_permalink'])\n",
    "\n",
    "plt.xlabel('Main Sectors')\n",
    "plt.ylabel('Number of Investments')\n",
    "plt.title('Top 3 Sectors vs Number of Investments for IND')\n",
    "plt.xticks(rotation=25)\n",
    "\n",
    "plt.show()\n"
   ]
  },
  {
   "cell_type": "code",
   "execution_count": 53,
   "metadata": {},
   "outputs": [
    {
     "data": {
      "text/html": [
       "<div>\n",
       "<style scoped>\n",
       "    .dataframe tbody tr th:only-of-type {\n",
       "        vertical-align: middle;\n",
       "    }\n",
       "\n",
       "    .dataframe tbody tr th {\n",
       "        vertical-align: top;\n",
       "    }\n",
       "\n",
       "    .dataframe thead th {\n",
       "        text-align: right;\n",
       "    }\n",
       "</style>\n",
       "<table border=\"1\" class=\"dataframe\">\n",
       "  <thead>\n",
       "    <tr style=\"text-align: right;\">\n",
       "      <th></th>\n",
       "      <th>company_permalink</th>\n",
       "    </tr>\n",
       "    <tr>\n",
       "      <th>main_sectors</th>\n",
       "      <th></th>\n",
       "    </tr>\n",
       "  </thead>\n",
       "  <tbody>\n",
       "    <tr>\n",
       "      <th>Others</th>\n",
       "      <td>2923</td>\n",
       "    </tr>\n",
       "    <tr>\n",
       "      <th>Cleantech / Semiconductors</th>\n",
       "      <td>2297</td>\n",
       "    </tr>\n",
       "    <tr>\n",
       "      <th>Social, Finance, Analytics, Advertising</th>\n",
       "      <td>1912</td>\n",
       "    </tr>\n",
       "    <tr>\n",
       "      <th>News, Search and Messaging</th>\n",
       "      <td>1563</td>\n",
       "    </tr>\n",
       "    <tr>\n",
       "      <th>Health</th>\n",
       "      <td>908</td>\n",
       "    </tr>\n",
       "    <tr>\n",
       "      <th>Manufacturing</th>\n",
       "      <td>799</td>\n",
       "    </tr>\n",
       "    <tr>\n",
       "      <th>Entertainment</th>\n",
       "      <td>580</td>\n",
       "    </tr>\n",
       "    <tr>\n",
       "      <th>Automotive &amp; Sports</th>\n",
       "      <td>167</td>\n",
       "    </tr>\n",
       "  </tbody>\n",
       "</table>\n",
       "</div>"
      ],
      "text/plain": [
       "                                         company_permalink\n",
       "main_sectors                                              \n",
       "Others                                                2923\n",
       "Cleantech / Semiconductors                            2297\n",
       "Social, Finance, Analytics, Advertising               1912\n",
       "News, Search and Messaging                            1563\n",
       "Health                                                 908\n",
       "Manufacturing                                          799\n",
       "Entertainment                                          580\n",
       "Automotive & Sports                                    167"
      ]
     },
     "execution_count": 53,
     "metadata": {},
     "output_type": "execute_result"
    }
   ],
   "source": [
    "D1.groupby(['main_sectors']).count()[['company_permalink']].sort_values('company_permalink',ascending=False)"
   ]
  },
  {
   "cell_type": "code",
   "execution_count": 54,
   "metadata": {},
   "outputs": [
    {
     "data": {
      "text/html": [
       "<div>\n",
       "<style scoped>\n",
       "    .dataframe tbody tr th:only-of-type {\n",
       "        vertical-align: middle;\n",
       "    }\n",
       "\n",
       "    .dataframe tbody tr th {\n",
       "        vertical-align: top;\n",
       "    }\n",
       "\n",
       "    .dataframe thead th {\n",
       "        text-align: right;\n",
       "    }\n",
       "</style>\n",
       "<table border=\"1\" class=\"dataframe\">\n",
       "  <thead>\n",
       "    <tr style=\"text-align: right;\">\n",
       "      <th></th>\n",
       "      <th>company_permalink</th>\n",
       "    </tr>\n",
       "    <tr>\n",
       "      <th>main_sectors</th>\n",
       "      <th></th>\n",
       "    </tr>\n",
       "  </thead>\n",
       "  <tbody>\n",
       "    <tr>\n",
       "      <th>Others</th>\n",
       "      <td>143</td>\n",
       "    </tr>\n",
       "    <tr>\n",
       "      <th>Cleantech / Semiconductors</th>\n",
       "      <td>127</td>\n",
       "    </tr>\n",
       "    <tr>\n",
       "      <th>Social, Finance, Analytics, Advertising</th>\n",
       "      <td>98</td>\n",
       "    </tr>\n",
       "    <tr>\n",
       "      <th>News, Search and Messaging</th>\n",
       "      <td>73</td>\n",
       "    </tr>\n",
       "    <tr>\n",
       "      <th>Entertainment</th>\n",
       "      <td>54</td>\n",
       "    </tr>\n",
       "    <tr>\n",
       "      <th>Manufacturing</th>\n",
       "      <td>42</td>\n",
       "    </tr>\n",
       "    <tr>\n",
       "      <th>Health</th>\n",
       "      <td>24</td>\n",
       "    </tr>\n",
       "    <tr>\n",
       "      <th>Automotive &amp; Sports</th>\n",
       "      <td>16</td>\n",
       "    </tr>\n",
       "  </tbody>\n",
       "</table>\n",
       "</div>"
      ],
      "text/plain": [
       "                                         company_permalink\n",
       "main_sectors                                              \n",
       "Others                                                 143\n",
       "Cleantech / Semiconductors                             127\n",
       "Social, Finance, Analytics, Advertising                 98\n",
       "News, Search and Messaging                              73\n",
       "Entertainment                                           54\n",
       "Manufacturing                                           42\n",
       "Health                                                  24\n",
       "Automotive & Sports                                     16"
      ]
     },
     "execution_count": 54,
     "metadata": {},
     "output_type": "execute_result"
    }
   ],
   "source": [
    "D2.groupby(['main_sectors']).count()[['company_permalink']].sort_values('company_permalink',ascending=False)"
   ]
  },
  {
   "cell_type": "code",
   "execution_count": 55,
   "metadata": {},
   "outputs": [
    {
     "data": {
      "text/html": [
       "<div>\n",
       "<style scoped>\n",
       "    .dataframe tbody tr th:only-of-type {\n",
       "        vertical-align: middle;\n",
       "    }\n",
       "\n",
       "    .dataframe tbody tr th {\n",
       "        vertical-align: top;\n",
       "    }\n",
       "\n",
       "    .dataframe thead th {\n",
       "        text-align: right;\n",
       "    }\n",
       "</style>\n",
       "<table border=\"1\" class=\"dataframe\">\n",
       "  <thead>\n",
       "    <tr style=\"text-align: right;\">\n",
       "      <th></th>\n",
       "      <th>company_permalink</th>\n",
       "    </tr>\n",
       "    <tr>\n",
       "      <th>main_sectors</th>\n",
       "      <th></th>\n",
       "    </tr>\n",
       "  </thead>\n",
       "  <tbody>\n",
       "    <tr>\n",
       "      <th>Others</th>\n",
       "      <td>109</td>\n",
       "    </tr>\n",
       "    <tr>\n",
       "      <th>News, Search and Messaging</th>\n",
       "      <td>52</td>\n",
       "    </tr>\n",
       "    <tr>\n",
       "      <th>Entertainment</th>\n",
       "      <td>33</td>\n",
       "    </tr>\n",
       "    <tr>\n",
       "      <th>Social, Finance, Analytics, Advertising</th>\n",
       "      <td>32</td>\n",
       "    </tr>\n",
       "    <tr>\n",
       "      <th>Manufacturing</th>\n",
       "      <td>21</td>\n",
       "    </tr>\n",
       "    <tr>\n",
       "      <th>Cleantech / Semiconductors</th>\n",
       "      <td>20</td>\n",
       "    </tr>\n",
       "    <tr>\n",
       "      <th>Health</th>\n",
       "      <td>19</td>\n",
       "    </tr>\n",
       "    <tr>\n",
       "      <th>Automotive &amp; Sports</th>\n",
       "      <td>13</td>\n",
       "    </tr>\n",
       "  </tbody>\n",
       "</table>\n",
       "</div>"
      ],
      "text/plain": [
       "                                         company_permalink\n",
       "main_sectors                                              \n",
       "Others                                                 109\n",
       "News, Search and Messaging                              52\n",
       "Entertainment                                           33\n",
       "Social, Finance, Analytics, Advertising                 32\n",
       "Manufacturing                                           21\n",
       "Cleantech / Semiconductors                              20\n",
       "Health                                                  19\n",
       "Automotive & Sports                                     13"
      ]
     },
     "execution_count": 55,
     "metadata": {},
     "output_type": "execute_result"
    }
   ],
   "source": [
    "D3.groupby(['main_sectors']).count()[['company_permalink']].sort_values('company_permalink',ascending=False)"
   ]
  },
  {
   "cell_type": "code",
   "execution_count": 57,
   "metadata": {},
   "outputs": [
    {
     "name": "stdout",
     "output_type": "stream",
     "text": [
      "raised_amount_usd    64300000.0\n",
      "Name: Virtustream, dtype: float64\n",
      "raised_amount_usd    37000000.0\n",
      "Name: Electric Cloud, dtype: float64\n",
      "raised_amount_usd    39000000.0\n",
      "Name: FirstCry.com, dtype: float64\n"
     ]
    }
   ],
   "source": [
    "## Table 5.1 Q-9\n",
    "\n",
    "print(D1[D1['main_sectors']=='Others'].groupby(['name']).sum().sort_values('raised_amount_usd',ascending=False).iloc[0])\n",
    "\n",
    "print(D2[D2['main_sectors']=='Others'].groupby(['name']).sum().sort_values('raised_amount_usd',ascending=False).iloc[0])\n",
    "\n",
    "print(D3[D3['main_sectors']=='Others'].groupby(['name']).sum().sort_values('raised_amount_usd',ascending=False).iloc[0])"
   ]
  },
  {
   "cell_type": "code",
   "execution_count": 58,
   "metadata": {},
   "outputs": [
    {
     "name": "stdout",
     "output_type": "stream",
     "text": [
      "raised_amount_usd    75300000.0\n",
      "Name: Biodesix, dtype: float64\n",
      "raised_amount_usd    35600000.0\n",
      "Name: EUSA Pharma, dtype: float64\n",
      "raised_amount_usd    33000000.0\n",
      "Name: GupShup, dtype: float64\n"
     ]
    }
   ],
   "source": [
    "## Table 5.1 Q-10\n",
    "\n",
    "print(D1[D1['main_sectors']=='Cleantech / Semiconductors'].groupby(['name']).sum().sort_values('raised_amount_usd',ascending=False).iloc[0])\n",
    "\n",
    "print(D2[D2['main_sectors']=='Cleantech / Semiconductors'].groupby(['name']).sum().sort_values('raised_amount_usd',ascending=False).iloc[0])\n",
    "\n",
    "print(D3[D3['main_sectors']=='News, Search and Messaging'].groupby(['name']).sum().sort_values('raised_amount_usd',ascending=False).iloc[0])"
   ]
  },
  {
   "cell_type": "markdown",
   "metadata": {},
   "source": [
    "## Results"
   ]
  },
  {
   "attachments": {},
   "cell_type": "markdown",
   "metadata": {},
   "source": [
    "#### Based on the data analysis , SparksFunds should invest in -\n",
    "\n",
    "- Funding type - Venture.\n",
    "- Countries - USA, Britain and India, respectively.\n",
    "- Sectors - \"Others\", \"Cleantech / Semiconductors\", \"Social, Finance, Analytics, Advertising\" for US and Britain, \"Others\",\"News, Search and Messaging\",\"Entertainment\" for India\n",
    "\n"
   ]
  }
 ],
 "metadata": {
  "kernelspec": {
   "display_name": "Python 3",
   "language": "python",
   "name": "python3"
  },
  "language_info": {
   "codemirror_mode": {
    "name": "ipython",
    "version": 3
   },
   "file_extension": ".py",
   "mimetype": "text/x-python",
   "name": "python",
   "nbconvert_exporter": "python",
   "pygments_lexer": "ipython3",
   "version": "3.7.3"
  }
 },
 "nbformat": 4,
 "nbformat_minor": 2
}
